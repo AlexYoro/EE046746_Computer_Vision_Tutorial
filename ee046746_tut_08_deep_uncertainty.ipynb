{
 "cells": [
  {
   "cell_type": "markdown",
   "metadata": {
    "slideshow": {
     "slide_type": "slide"
    }
   },
   "source": [
    "# <img src=\"https://img.icons8.com/bubbles/100/000000/3d-glasses.png\" style=\"height:50px;display:inline\"> EE 046746 - Technion - Computer Vision\n",
    "\n",
    "#### Elias Nehme\n",
    "\n",
    "## Tutorial 08 - Uncertainty Quantification in Deep Learning\n",
    "---"
   ]
  },
  {
   "cell_type": "markdown",
   "metadata": {
    "slideshow": {
     "slide_type": "slide"
    }
   },
   "source": [
    "## <img src=\"https://img.icons8.com/bubbles/50/000000/checklist.png\" style=\"height:50px;display:inline\"> Agenda\n",
    "---\n",
    "* [Why We Need Uncertainty?](#-Why-We-Need-Uncertainty?)\n",
    "* [Types of Uncertainty](#-Types-of-Uncertainty)\n",
    "    * [Epistemic/Model Uncertainty](#-Epistemic/Model-Uncertainty)\n",
    "    * [Aleatoric/Data Uncertainty](#-Aleatoric/Data-Uncertainty)\n",
    "* [Computing Uncertainty](#-Computing-Uncertainty)\n",
    "    * [Likelihood Modelling](#-Likelihood-Modelling)\n",
    "    * [Bayesian Neural Networks](#-Bayesian-Neural-Networks)\n",
    "    * [Evidental Deep Learning](#-Evidental-Deep-Learning)\n",
    "* [Computer Vision Applications](#-Computer-Vision-Applications)\n",
    "* [Existing Libraries](#-Blitz---Bayesian-Neural-Networks-in-PyTorch)\n",
    "* [Recommended Videos](#-Recommended-Videos)\n",
    "* [Credits](#-Credits)"
   ]
  },
  {
   "cell_type": "markdown",
   "metadata": {
    "slideshow": {
     "slide_type": "slide"
    }
   },
   "source": [
    "### <img src=\"https://img.icons8.com/doodle/96/000000/average-value.png\" style=\"height:50px;display:inline\"> Why We Need Uncertainty?\n",
    "--- \n",
    "\n",
    "<img src=\"./assets/dice.gif\" width=\"400\">\n",
    "\n",
    "* <a href=\"http://introtodeeplearning.com/\">Image source</a>"
   ]
  },
  {
   "cell_type": "markdown",
   "metadata": {
    "slideshow": {
     "slide_type": "subslide"
    }
   },
   "source": [
    "#### With great power..\n",
    "---\n",
    "\n",
    "<img src=\"./assets/uncertainty_why4.jpg\" width=\"400\">\n",
    "\n",
    "* Control handed-over to automated systems; with many dangerous scenarios\n",
    "    * Medical diagnosis\n",
    "    * Automotive and Self-driving Cars\n",
    "    * High frequency Trading (affecting economic markets on global scale)\n",
    "    * etc.\n",
    "\n",
    "* <a href=\"http://www.cs.ox.ac.uk/people/yarin.gal/website/bdl101/MLSS_2019_BDL_1.pdf\">Image source</a>"
   ]
  },
  {
   "cell_type": "markdown",
   "metadata": {
    "slideshow": {
     "slide_type": "subslide"
    }
   },
   "source": [
    "#### Knowing what you don't know\n",
    "---\n",
    "* A deep learning model should be able to say: “sorry, I don’t know”\n",
    "* If it can tell us how certain it is we can plan accordingly\n",
    "\n",
    "<img src=\"./assets/uncertainty_why1.jpg\" width=\"1200\">\n",
    "\n",
    "* <a href=\"https://www.slideshare.net/perone/uncertainty-estimation-in-deep-learning/5\">Image source</a>"
   ]
  },
  {
   "cell_type": "markdown",
   "metadata": {
    "slideshow": {
     "slide_type": "subslide"
    }
   },
   "source": [
    "#### Diagnosis in medicine\n",
    "---\n",
    "* Suppose you are trying to classify lesions in MRI\n",
    "\n",
    "<img src=\"./assets/uncertainty_why2.jpg\" width=\"1200\">\n",
    "\n",
    "* Later on: change in acquisition setup leads to differently looking samples\n",
    "* Problem: we will still get predictions with **high probability** for an Out-of-distrbution (OOD) sample.\n",
    "* <a href=\"https://www.slideshare.net/perone/uncertainty-estimation-in-deep-learning/7\">Image source</a>"
   ]
  },
  {
   "cell_type": "markdown",
   "metadata": {
    "slideshow": {
     "slide_type": "subslide"
    }
   },
   "source": [
    "#### Out-of-distribution detection\n",
    "---\n",
    "* Systems applied to toy data deployed in real-life settings\n",
    "\n",
    "<img src=\"./assets/uncertainty_why9.jpg\" width=\"1200\">\n",
    "\n",
    "* <a href=\"http://introtodeeplearning.com/slides/6S191_MIT_DeepLearning_L7.pdf\">Image source</a>"
   ]
  },
  {
   "cell_type": "markdown",
   "metadata": {
    "slideshow": {
     "slide_type": "subslide"
    }
   },
   "source": [
    "#### Out-of-distribution detection\n",
    "---\n",
    "* Likelihood vs confidence\n",
    "\n",
    "<img src=\"./assets/uncertainty_why10.jpg\" width=\"1200\">\n",
    "\n",
    "* <a href=\"http://introtodeeplearning.com/slides/6S191_MIT_DeepLearning_L7.pdf\">Image source</a>"
   ]
  },
  {
   "cell_type": "markdown",
   "metadata": {
    "slideshow": {
     "slide_type": "subslide"
    }
   },
   "source": [
    "#### Out-of-distribution detection\n",
    "---\n",
    "* Likelihood vs confidence\n",
    "\n",
    "<img src=\"./assets/uncertainty_why11.jpg\" width=\"1200\">\n",
    "\n",
    "* <a href=\"http://introtodeeplearning.com/slides/6S191_MIT_DeepLearning_L7.pdf\">Image source</a>"
   ]
  },
  {
   "cell_type": "markdown",
   "metadata": {
    "slideshow": {
     "slide_type": "subslide"
    }
   },
   "source": [
    "#### Out-of-distribution detection\n",
    "---\n",
    "* Likelihood vs confidence\n",
    "\n",
    "<img src=\"./assets/uncertainty_why12.jpg\" width=\"1200\">\n",
    "\n",
    "* Classifier forced to choose between 2 possible outcomes even if it have no clue\n",
    "* July 2015, classification system erroneously identified two African American humans as gorillas, raising concerns of racial discrimination.\n",
    "\n",
    "* <a href=\"http://introtodeeplearning.com/slides/6S191_MIT_DeepLearning_L7.pdf\">Image source</a>"
   ]
  },
  {
   "cell_type": "markdown",
   "metadata": {
    "slideshow": {
     "slide_type": "subslide"
    }
   },
   "source": [
    "#### Autonomous Driving\n",
    "---\n",
    "* Semantic Segmentation used as a strong cue for motion planning\n",
    "\n",
    "<img src=\"./assets/uncertainty_why5.jpg\" width=\"1200\">\n",
    "\n",
    "* <a href=\"http://www.cs.ox.ac.uk/people/yarin.gal/website/bdl101/MLSS_2019_BDL_1.pdf\">Image source</a>"
   ]
  },
  {
   "cell_type": "markdown",
   "metadata": {
    "slideshow": {
     "slide_type": "subslide"
    }
   },
   "source": [
    "#### Autonomous Driving\n",
    "---\n",
    "* Ground Truth Segmentation Labels\n",
    "\n",
    "<img src=\"./assets/uncertainty_why6.jpg\" width=\"1200\">\n",
    "\n",
    "* <a href=\"http://www.cs.ox.ac.uk/people/yarin.gal/website/bdl101/MLSS_2019_BDL_1.pdf\">Image source</a>"
   ]
  },
  {
   "cell_type": "markdown",
   "metadata": {
    "slideshow": {
     "slide_type": "subslide"
    }
   },
   "source": [
    "#### Autonomous Driving\n",
    "---\n",
    "* Predicted Segmentation Labels\n",
    "\n",
    "<img src=\"./assets/uncertainty_why7.jpg\" width=\"1200\">\n",
    "\n",
    "* <a href=\"http://www.cs.ox.ac.uk/people/yarin.gal/website/bdl101/MLSS_2019_BDL_1.pdf\">Image source</a>"
   ]
  },
  {
   "cell_type": "markdown",
   "metadata": {
    "slideshow": {
     "slide_type": "subslide"
    }
   },
   "source": [
    "#### Autonomous Driving\n",
    "---\n",
    "* Predicted Uncertainty per-pixel\n",
    "\n",
    "<img src=\"./assets/uncertainty_why8.jpg\" width=\"1200\">\n",
    "\n",
    "* May 2016, tragically experienced the first fatality from an assisted driving system. White side of tractor trailer confused against a brightly lit sky.\n",
    "* <a href=\"http://www.cs.ox.ac.uk/people/yarin.gal/website/bdl101/MLSS_2019_BDL_1.pdf\">Image source</a>"
   ]
  },
  {
   "cell_type": "markdown",
   "metadata": {
    "slideshow": {
     "slide_type": "subslide"
    }
   },
   "source": [
    "#### Active learning\n",
    "---\n",
    "* Agent chooses which unlabelled data is most informative\n",
    "* Asks external \\oracle\" (eg human annotator) for a label only for that\n",
    "* Acquisition function: ranks points based on their potential informativeness, e.g. model uncertainty\n",
    "\n",
    "<img src=\"./assets/uncertainty_why3.jpg\" width=\"1200\">\n",
    "\n",
    "* <a href=\"http://www.cs.ox.ac.uk/people/yarin.gal/website/bdl101/MLSS_2019_BDL_2.pdf\">Image source</a>"
   ]
  },
  {
   "cell_type": "markdown",
   "metadata": {
    "slideshow": {
     "slide_type": "subslide"
    }
   },
   "source": [
    "* Many more applications including:\n",
    "    * Explore/exploit dilemma in Reinforcement Learning\n",
    "    * Model understanding/Dataset bias understanding\n",
    "    * Sample-adaptive loss-function tuning\n",
    "    * etc"
   ]
  },
  {
   "cell_type": "markdown",
   "metadata": {
    "slideshow": {
     "slide_type": "slide"
    }
   },
   "source": [
    "### <img src=\"https://img.icons8.com/officexs/60/000000/area-chart.png\" style=\"height:50px;display:inline\"> Types of Uncertainty\n",
    "--- \n",
    "* Epistemic/Model Uncertainty\n",
    "* Aleatoric/Data Uncertainty"
   ]
  },
  {
   "cell_type": "markdown",
   "metadata": {
    "slideshow": {
     "slide_type": "subslide"
    }
   },
   "source": [
    "#### <img src=\"https://img.icons8.com/dusk/64/000000/artificial-intelligence.png\" style=\"height:50px;display:inline\"> Epistemic/Model Uncertainty\n",
    "--- \n",
    "* Episteme in Latin is \"Knowledge/understanding\"\n",
    "* Also called model uncertaintly or reducible uncertainty\n",
    "* Describes the uncertainty in the model itself (network weights)\n",
    "* High when we do not have good coverage of the sample space\n",
    "* Can be reduced with more training data"
   ]
  },
  {
   "cell_type": "markdown",
   "metadata": {
    "slideshow": {
     "slide_type": "subslide"
    }
   },
   "source": [
    "<img src=\"./assets/uncertainty_types3.png\" width=\"800\">\n",
    "\n",
    "* Cool online demo for epistemic uncertainty: https://mlg.eng.cam.ac.uk/yarin/blog_3d801aa532c1ce.html"
   ]
  },
  {
   "cell_type": "markdown",
   "metadata": {
    "slideshow": {
     "slide_type": "subslide"
    }
   },
   "source": [
    "#### <img src=\"https://img.icons8.com/ios/60/000000/area-chart.png\" style=\"height:50px;display:inline\"> Aleatoric/Data Uncertainty\n",
    "--- \n",
    "* Aleator in Latin means \"dice player\"\n",
    "\n",
    "<img src=\"./assets/uncertainty_types2.png\" width=\"400\">\n",
    "\n",
    "* Rolling a pair of dice again and again will not reduce the uncertainty\n",
    "* <a href=\"http://www.cs.ox.ac.uk/people/yarin.gal/website/bdl101/MLSS_2019_BDL_2.pdf\">Image source</a>"
   ]
  },
  {
   "cell_type": "markdown",
   "metadata": {
    "slideshow": {
     "slide_type": "subslide"
    }
   },
   "source": [
    "#### <img src=\"https://img.icons8.com/ios/60/000000/area-chart.png\" style=\"height:50px;display:inline\"> Aleatoric/Data Uncertainty\n",
    "--- \n",
    "* Also called data uncertainty or irreducible uncertainty\n",
    "* Describes the confidence in the input data\n",
    "* High when the input data is noisy\n",
    "* Can not be reduced by adding more training data\n",
    "* To decrease it, we need to acquire data with a better sensor (less noise)\n",
    "* Further classified into: \n",
    "    * homoscedastic - fixed for all samples\n",
    "    * heteroscedastic - sample-dependent noise"
   ]
  },
  {
   "cell_type": "markdown",
   "metadata": {
    "slideshow": {
     "slide_type": "subslide"
    }
   },
   "source": [
    "#### Visual Example 1\n",
    "--- \n",
    "\n",
    "<img src=\"./assets/uncertainty_types1.png\" width=\"1200\">\n",
    "\n",
    "* Data generation model is given by $y_i = \\omega_0 + \\omega_1 x_i + \\epsilon$\n",
    "* Here we have heteroscedastic data uncertainty since $\\epsilon = \\epsilon(x_i)$\n",
    "\n",
    "* <a href=\"https://towardsdatascience.com/my-deep-learning-model-says-sorry-i-dont-know-the-answer-that-s-absolutely-ok-50ffa562cb0b#:~:text=There%20are%20two%20major%20different,epistemic%20uncertainty%20and%20aleatoric%20uncertainty.&text=Epistemic%20uncertainty%20describes%20what%20the,to%20limited%20data%20and%20knowledge.\">Image source</a>"
   ]
  },
  {
   "cell_type": "markdown",
   "metadata": {
    "slideshow": {
     "slide_type": "subslide"
    }
   },
   "source": [
    "#### Visual Example 2\n",
    "--- \n",
    "\n",
    "<img src=\"./assets/uncertainty_types4.png\" width=\"1200\">\n",
    "\n",
    "* Extrapolation is an obvious case of high epistemic uncertainty\n",
    "* <a href=\"http://introtodeeplearning.com/slides/6S191_MIT_DeepLearning_L7.pdf\">Image source</a>"
   ]
  },
  {
   "cell_type": "markdown",
   "metadata": {
    "slideshow": {
     "slide_type": "slide"
    }
   },
   "source": [
    "### <img src=\"https://img.icons8.com/office/80/000000/abacus.png\" style=\"height:50px;display:inline\"> Computing Uncertainty\n",
    "---\n",
    "* Likelihood Modelling\n",
    "* Bayesian Neural Networks\n",
    "* Dropout at Test time\n",
    "* Evidental Deep Learning"
   ]
  },
  {
   "cell_type": "markdown",
   "metadata": {
    "slideshow": {
     "slide_type": "slide"
    }
   },
   "source": [
    "#### <img src=\"https://img.icons8.com/pastel-glyph/64/000000/increase-profits.png\" style=\"height:50px;display:inline\"> Likelihood Modelling\n",
    "--- \n",
    "\n",
    "<img src=\"./assets/uncertainty_mle1.png\" width=\"1200\">\n",
    "\n",
    "* Main idea is simple: swap point estimate with parameterized likelihood\n",
    "* <a href=\"http://introtodeeplearning.com/slides/6S191_MIT_DeepLearning_L7.pdf\">Image source</a>"
   ]
  },
  {
   "cell_type": "markdown",
   "metadata": {
    "slideshow": {
     "slide_type": "subslide"
    }
   },
   "source": [
    "#### <img src=\"https://img.icons8.com/pastel-glyph/64/000000/increase-profits.png\" style=\"height:50px;display:inline\"> Likelihood Modelling: Classification\n",
    "--- \n",
    "\n",
    "<img src=\"./assets/uncertainty_mle2.png\" width=\"1200\">\n",
    "\n",
    "* Classification: Output is a probability distribution with Softmax and Cross-entropy\n",
    "* <a href=\"http://introtodeeplearning.com/slides/6S191_MIT_DeepLearning_L7.pdf\">Image source</a>"
   ]
  },
  {
   "cell_type": "markdown",
   "metadata": {
    "slideshow": {
     "slide_type": "subslide"
    }
   },
   "source": [
    "#### <img src=\"https://img.icons8.com/pastel-glyph/64/000000/increase-profits.png\" style=\"height:50px;display:inline\"> Likelihood Modelling: Classification\n",
    "--- \n",
    "\n",
    "<img src=\"./assets/uncertainty_mle3.png\" width=\"1200\">\n",
    "\n",
    "* Underlying assumption is that the output is Categorially distributed\n",
    "* <a href=\"http://introtodeeplearning.com/slides/6S191_MIT_DeepLearning_L7.pdf\">Image source</a>"
   ]
  },
  {
   "cell_type": "markdown",
   "metadata": {
    "slideshow": {
     "slide_type": "subslide"
    }
   },
   "source": [
    "#### <img src=\"https://img.icons8.com/pastel-glyph/64/000000/increase-profits.png\" style=\"height:50px;display:inline\"> Likelihood Modelling: Regression\n",
    "--- \n",
    "\n",
    "<img src=\"./assets/uncertainty_mle4.png\" width=\"1200\">\n",
    "\n",
    "* Same logic only assume the output is Gaussian\n",
    "* <a href=\"http://introtodeeplearning.com/slides/6S191_MIT_DeepLearning_L7.pdf\">Image source</a>"
   ]
  },
  {
   "cell_type": "markdown",
   "metadata": {
    "slideshow": {
     "slide_type": "subslide"
    }
   },
   "source": [
    "#### <img src=\"https://img.icons8.com/pastel-glyph/64/000000/increase-profits.png\" style=\"height:50px;display:inline\"> Likelihood Modelling: Regression\n",
    "---\n",
    "\n",
    "* Where are the uncertainty \"labels\" coming from?\n",
    "    * We do not need labels for uncertainty!\n",
    "* The negative log-likelihood for a Gaussian distribution is composed of 2 terms ($\\hat{y}\\equiv \\mu$):\n",
    "$$-\\log\\left(\\mathcal{N}\\left(y\\lvert \\mu, \\sigma^2\\right)\\right) = \\frac{1}{2} \\frac{\\left(y - \\hat{y}\\left(x\\right)\\right)^2}{\\hat{\\sigma}^2\\left(x\\right)} + \\frac{1}{2} \\log\\left(\\hat{\\sigma}^2\\left(x\\right)\\right) + C$$\n",
    "* The first term favors very large uncertainty\n",
    "* The second term favors very small uncertainty\n",
    "* The compromise is reached such that for small errors the uncertainty is small\n",
    "* Note that this requires another head for the net (to output sigma)"
   ]
  },
  {
   "cell_type": "markdown",
   "metadata": {
    "slideshow": {
     "slide_type": "subslide"
    }
   },
   "source": [
    "#### <img src=\"https://img.icons8.com/pastel-glyph/64/000000/increase-profits.png\" style=\"height:50px;display:inline\"> Likelihood Modelling: Summary\n",
    "---\n",
    "\n",
    "<img src=\"./assets/uncertainty_mle5.png\" width=\"1200\">\n",
    "\n",
    "* <a href=\"http://introtodeeplearning.com/slides/6S191_MIT_DeepLearning_L7.pdf\">Image source</a>"
   ]
  },
  {
   "cell_type": "markdown",
   "metadata": {
    "slideshow": {
     "slide_type": "slide"
    }
   },
   "source": [
    "#### <img src=\"https://img.icons8.com/officel/40/000000/normal-distribution-histogram.png\" style=\"height:50px;display:inline\"> Bayesian Neural Networks\n",
    "---\n",
    "\n",
    "<img src=\"./assets/uncertainty_bnn5.png\" width=\"1200\">\n",
    "\n",
    "* Epistemic uncertainty is significantly harder to estimate\n",
    "\n",
    "* <a href=\"http://introtodeeplearning.com/slides/6S191_MIT_DeepLearning_L7.pdf\">Image source</a>"
   ]
  },
  {
   "cell_type": "markdown",
   "metadata": {
    "slideshow": {
     "slide_type": "subslide"
    }
   },
   "source": [
    "#### <img src=\"https://img.icons8.com/officel/40/000000/normal-distribution-histogram.png\" style=\"height:50px;display:inline\"> Bayesian Neural Networks: key idea\n",
    "---\n",
    "\n",
    "<img src=\"./assets/uncertainty_bnn4.png\" width=\"1200\">\n",
    "\n",
    "* Main idea: put probability distrbutions over weights\n",
    "\n",
    "* <a href=\"http://introtodeeplearning.com/slides/6S191_MIT_DeepLearning_L7.pdf\">Image source</a>"
   ]
  },
  {
   "cell_type": "markdown",
   "metadata": {
    "slideshow": {
     "slide_type": "subslide"
    }
   },
   "source": [
    "#### <img src=\"https://img.icons8.com/officel/40/000000/normal-distribution-histogram.png\" style=\"height:50px;display:inline\"> Bayesian Neural Networks: intractable directly\n",
    "---\n",
    "\n",
    "<img src=\"./assets/uncertainty_bnn6.png\" width=\"1200\">\n",
    "\n",
    "* Straighforward Bayesian inference is intractable\n",
    "\n",
    "* <a href=\"http://introtodeeplearning.com/slides/6S191_MIT_DeepLearning_L7.pdf\">Image source</a>"
   ]
  },
  {
   "cell_type": "markdown",
   "metadata": {
    "slideshow": {
     "slide_type": "subslide"
    }
   },
   "source": [
    "#### <img src=\"https://img.icons8.com/officel/40/000000/normal-distribution-histogram.png\" style=\"height:50px;display:inline\"> Bayesian Neural Networks: stochastic variational inference\n",
    "---\n",
    "\n",
    "* The underlying approximations rely on \"Stochastic Variational Inference\".\n",
    "* The posterior is approximated using a parametric distrbution (eg Gaussian)\n",
    "* Optimization is performed using the \"evidence lower bound\" (ELBO)\n",
    "* \"Monte Carlo\" (MC) Integration is involved to approximate the gradients.\n",
    "* Still becomes extremely heavy for very large models."
   ]
  },
  {
   "cell_type": "markdown",
   "metadata": {
    "slideshow": {
     "slide_type": "subslide"
    }
   },
   "source": [
    "#### <img src=\"https://img.icons8.com/officel/40/000000/normal-distribution-histogram.png\" style=\"height:50px;display:inline\"> Bayesian Neural Networks: Efficient approximations\n",
    "---\n",
    "\n",
    "<img src=\"./assets/uncertainty_bnn7.png\" width=\"1200\">\n",
    "\n",
    "* What? Dropout at test time? \n",
    "\n",
    "* <a href=\"http://introtodeeplearning.com/slides/6S191_MIT_DeepLearning_L7.pdf\">Image source</a>"
   ]
  },
  {
   "cell_type": "markdown",
   "metadata": {
    "slideshow": {
     "slide_type": "subslide"
    }
   },
   "source": [
    "#### <img src=\"assets/dropout_icon.png\" style=\"height:50px;display:inline\"> Dropout at Inference \n",
    "--- \n",
    "\n",
    "* It can be proven that Dropout with L2 weight decay = approximate Bayesian inference of a Gaussian process.\n",
    "* Main idea: Dropout **both** at **training** and at **test** time.\n",
    "* Intuition: Training $2^m$ different models simultaneously, where $m$ is the number of nodes in the network. \n",
    "* For each batch, a randomly sampled set of these models is trained.\n",
    "\n",
    "<img src=\"assets/dropout_mc.gif\" style=\"height:500px\">\n",
    "\n",
    "* <a href=\"https://www.yuritan.nl/posts/prediction_uncertainty/\">Image source</a>\n",
    "* <a href=\"https://jmlr.org/papers/v15/srivastava14a.html\">Icon source</a>"
   ]
  },
  {
   "cell_type": "markdown",
   "metadata": {
    "slideshow": {
     "slide_type": "slide"
    }
   },
   "source": [
    "### <img src=\"https://img.icons8.com/cotton/64/000000/combo-chart--v1.png\" style=\"height:50px;display:inline\"> Evidental Deep Learning\n",
    "--- \n",
    "\n",
    "<img src=\"./assets/uncertainty_el1.png\" width=\"1200\">\n",
    "\n",
    "* There is a need for a single-pass model that is able to provide both uncertainties \n",
    "\n",
    "* <a href=\"http://introtodeeplearning.com/slides/6S191_MIT_DeepLearning_L7.pdf\">Image source</a>"
   ]
  },
  {
   "cell_type": "markdown",
   "metadata": {
    "slideshow": {
     "slide_type": "subslide"
    }
   },
   "source": [
    "### <img src=\"https://img.icons8.com/cotton/64/000000/combo-chart--v1.png\" style=\"height:50px;display:inline\"> Evidental Deep Learning\n",
    "--- \n",
    "\n",
    "<img src=\"./assets/uncertainty_el2.png\" width=\"1200\">\n",
    "\n",
    "* Each model from the ensemble leads to a single point $\\left(\\mu, \\sigma^2\\right)$\n",
    "* The model uncertainty is then given by the variance of $\\mu$ - $Var\\left[\\mu\\right]$\n",
    "\n",
    "* <a href=\"http://introtodeeplearning.com/slides/6S191_MIT_DeepLearning_L7.pdf\">Image source</a>"
   ]
  },
  {
   "cell_type": "markdown",
   "metadata": {
    "slideshow": {
     "slide_type": "subslide"
    }
   },
   "source": [
    "### <img src=\"https://img.icons8.com/cotton/64/000000/combo-chart--v1.png\" style=\"height:50px;display:inline\"> Evidental Deep Learning\n",
    "--- \n",
    "\n",
    "<img src=\"./assets/uncertainty_el3.png\" width=\"1200\">\n",
    "\n",
    "* Ultimately we are interested in the marginal distributions over $\\mu$ and $\\sigma$ \n",
    "\n",
    "* <a href=\"http://introtodeeplearning.com/slides/6S191_MIT_DeepLearning_L7.pdf\">Image source</a>"
   ]
  },
  {
   "cell_type": "markdown",
   "metadata": {
    "slideshow": {
     "slide_type": "subslide"
    }
   },
   "source": [
    "### <img src=\"https://img.icons8.com/cotton/64/000000/combo-chart--v1.png\" style=\"height:50px;display:inline\"> Evidental Deep Learning\n",
    "--- \n",
    "\n",
    "<img src=\"./assets/uncertainty_el4.png\" width=\"1200\">\n",
    "\n",
    "* Key idea: Instead of training ensemble of models to output scalars $\\mu$ and $\\sigma$, output their distributions directly\n",
    "\n",
    "* <a href=\"http://introtodeeplearning.com/slides/6S191_MIT_DeepLearning_L7.pdf\">Image source</a>"
   ]
  },
  {
   "cell_type": "markdown",
   "metadata": {
    "slideshow": {
     "slide_type": "subslide"
    }
   },
   "source": [
    "### <img src=\"https://img.icons8.com/cotton/64/000000/combo-chart--v1.png\" style=\"height:50px;display:inline\"> Evidental Deep Learning\n",
    "--- \n",
    "\n",
    "<img src=\"./assets/uncertainty_el5.png\" width=\"1200\">\n",
    "\n",
    "* For Classification: The prior will be on the individual probabilities\n",
    "\n",
    "* <a href=\"http://introtodeeplearning.com/slides/6S191_MIT_DeepLearning_L7.pdf\">Image source</a>"
   ]
  },
  {
   "cell_type": "markdown",
   "metadata": {
    "slideshow": {
     "slide_type": "subslide"
    }
   },
   "source": [
    "### <img src=\"https://img.icons8.com/cotton/64/000000/combo-chart--v1.png\" style=\"height:50px;display:inline\"> Evidental Deep Learning\n",
    "--- \n",
    "\n",
    "<img src=\"./assets/uncertainty_el6.png\" width=\"1200\">\n",
    "\n",
    "* Key idea: Instead of training ensemble of models to output scalars, output nested distributions directly\n",
    "* The previous choices are not random, stem from \"conjugate priors\" in Bayesian analysis:\n",
    "    * If posterior and prior are in the same \"probability distribution family\" (eg exponential) then the prior is said to be conjugate to the likelihood.\n",
    "    * Examples include: Poisson Likelihood-Gamma Prior, Categorial Likelihood-Dirichlet Prior,...\n",
    "\n",
    "* <a href=\"http://introtodeeplearning.com/slides/6S191_MIT_DeepLearning_L7.pdf\">Image source</a>"
   ]
  },
  {
   "cell_type": "markdown",
   "metadata": {
    "slideshow": {
     "slide_type": "subslide"
    }
   },
   "source": [
    "### <img src=\"https://img.icons8.com/cotton/64/000000/combo-chart--v1.png\" style=\"height:50px;display:inline\"> Evidental Deep Learning\n",
    "--- \n",
    "\n",
    "<img src=\"./assets/uncertainty_el7.png\" width=\"1200\">\n",
    "\n",
    "* Pytorch implementation: https://github.com/dougbrion/pytorch-classification-uncertainty\n",
    "* <a href=\"http://introtodeeplearning.com/slides/6S191_MIT_DeepLearning_L7.pdf\">Image source</a>"
   ]
  },
  {
   "cell_type": "markdown",
   "metadata": {
    "slideshow": {
     "slide_type": "slide"
    }
   },
   "source": [
    "### <img src=\"https://img.icons8.com/ios/50/000000/summary-list.png\" style=\"height:50px;display:inline\"> Techniques - Summary\n",
    "---\n",
    "\n",
    "<img src=\"./assets/uncertainty_comparison.png\" width=\"1200\">\n",
    "\n",
    "* <a href=\"http://introtodeeplearning.com/slides/6S191_MIT_DeepLearning_L7.pdf\">Image source</a>"
   ]
  },
  {
   "cell_type": "markdown",
   "metadata": {
    "slideshow": {
     "slide_type": "slide"
    }
   },
   "source": [
    "### <img src=\"https://img.icons8.com/bubbles/100/000000/3d-glasses.png\" style=\"height:50px;display:inline\"> Computer Vision Applications\n",
    "--- \n"
   ]
  },
  {
   "cell_type": "markdown",
   "metadata": {
    "slideshow": {
     "slide_type": "subslide"
    }
   },
   "source": [
    "#### <img src=\"https://img.icons8.com/bubbles/100/000000/3d-glasses.png\" style=\"height:50px;display:inline\"> Application 1: Out-of-distribution detection\n",
    "--- \n",
    "\n",
    "<img src=\"./assets/uncertainty_app1.png\" width=\"1200\">\n",
    "\n",
    "* <a href=\"http://introtodeeplearning.com/slides/6S191_MIT_DeepLearning_L7.pdf\">Image source</a>"
   ]
  },
  {
   "cell_type": "markdown",
   "metadata": {
    "slideshow": {
     "slide_type": "subslide"
    }
   },
   "source": [
    "#### <img src=\"https://img.icons8.com/bubbles/100/000000/3d-glasses.png\" style=\"height:50px;display:inline\"> Application 1: Out-of-distribution detection\n",
    "--- \n",
    "\n",
    "<img src=\"./assets/uncertainty_app4.png\" width=\"1200\">\n",
    "\n",
    "* Standard Softmax on the left, Evidental deep learning on the right\n",
    "* Rotation angle effectively induces out-of-distribution samples\n",
    "* Erroneously high confidence with standard method\n",
    "* <a href=\"http://introtodeeplearning.com/slides/6S191_MIT_DeepLearning_L7.pdf\">Image source</a>"
   ]
  },
  {
   "cell_type": "markdown",
   "metadata": {
    "slideshow": {
     "slide_type": "skip"
    }
   },
   "source": [
    "#### <img src=\"https://img.icons8.com/bubbles/100/000000/3d-glasses.png\" style=\"height:50px;display:inline\"> Application 1: Out-of-distribution detection\n",
    "--- \n",
    "\n",
    "<img src=\"./assets/uncertainty_app6.png\" width=\"800\">\n",
    "\n",
    "* The model can easily tell that it is just flipping a coin\n",
    "* <a href=\"http://introtodeeplearning.com/slides/6S191_MIT_DeepLearning_L7.pdf\">Image source</a>"
   ]
  },
  {
   "cell_type": "markdown",
   "metadata": {
    "slideshow": {
     "slide_type": "subslide"
    }
   },
   "source": [
    "#### <img src=\"https://img.icons8.com/bubbles/100/000000/3d-glasses.png\" style=\"height:50px;display:inline\"> Application 2: Autonomous Driving\n",
    "--- \n",
    "\n",
    "<img src=\"./assets/uncertainty_app3.png\" width=\"1200\">\n",
    "\n",
    "* Aleatoric uncertainty captures object boundaries where labels are noisy\n",
    "* Bottom row - failure case shows increase in epistemic uncertainty\n",
    "* <a href=\"http://introtodeeplearning.com/slides/6S191_MIT_DeepLearning_L7.pdf\">Image source</a>"
   ]
  },
  {
   "cell_type": "markdown",
   "metadata": {
    "slideshow": {
     "slide_type": "subslide"
    }
   },
   "source": [
    "#### <img src=\"https://img.icons8.com/bubbles/100/000000/3d-glasses.png\" style=\"height:50px;display:inline\"> Application 2: Autonomous Driving\n",
    "--- \n",
    "\n",
    "<img src=\"./assets/uncertainty_app5.png\" width=\"1200\">\n",
    "\n",
    "* Multi-task Learning: Improves over learning each task individually\n",
    "* Improve generalization by sharing info between tasks: \"what is learned from one task can help learn another task\"\n",
    "* Optimal weighting between the importance of the different tasks given by the homoscedastic aleatoric uncertainty\n",
    "$$ \\mathcal{L}_{total} = \\sum\\limits_i \\alpha_i \\mathcal{L}_i \\approx \\frac{1}{2\\sigma_1^2} \\mathcal{L}_1 + \\frac{1}{2\\sigma_2^2} \\mathcal{L}_2 + \\log\\left(\\sigma_1\\right) + \\log\\left(\\sigma_2\\right)$$\n",
    "* <a href=\"https://openaccess.thecvf.com/content_cvpr_2018/html/Kendall_Multi-Task_Learning_Using_CVPR_2018_paper.html\">Image source</a>"
   ]
  },
  {
   "cell_type": "markdown",
   "metadata": {
    "slideshow": {
     "slide_type": "subslide"
    }
   },
   "source": [
    "#### <img src=\"https://img.icons8.com/bubbles/100/000000/3d-glasses.png\" style=\"height:50px;display:inline\"> Application 2: Autonomous Driving\n",
    "--- \n",
    "\n",
    "<img src=\"./assets/uncertainty_app2.png\" width=\"1200\">\n",
    "\n",
    "* Monocular depth estimation\n",
    "* 3D Object recognition in point clouds\n",
    "* Pose Estimation in SLAM\n",
    "* etc.\n",
    "* <a href=\"http://introtodeeplearning.com/slides/6S191_MIT_DeepLearning_L7.pdf\">Image source</a>"
   ]
  },
  {
   "cell_type": "markdown",
   "metadata": {
    "slideshow": {
     "slide_type": "slide"
    }
   },
   "source": [
    "### <img src=\"assets/blitz_bnn3.png\" style=\"height:50px;display:inline\"> Blitz - Bayesian Neural Networks in PyTorch\n",
    "---\n",
    "<img src=\"assets/blitz_bnn.png\" style=\"height:400px\">\n",
    "\n",
    "* <a href=\"https://github.com/piEsposito/blitz-bayesian-deep-learning\">Blitz is a bayesian neural netowrk library for PyTorch</a>\n",
    "* Acompanies the ~<a href=\"http://proceedings.mlr.press/v37/blundell15.html\">first paper</a> that revived this field from ICML 2015. \n",
    "* Relatively easy to use, however, quite heavy for large models."
   ]
  },
  {
   "cell_type": "markdown",
   "metadata": {
    "slideshow": {
     "slide_type": "subslide"
    }
   },
   "source": [
    "### <img src=\"assets/pyro_logo_wide.png\" style=\"height:50px;display:inline\"> Pyro - Deep Universal Probabilistic Programming\n",
    "---\n",
    "<img src=\"assets/pyro_gp.png\" style=\"height:400px\">\n",
    "\n",
    "* <a href=\"https://github.com/piEsposito/blitz-bayesian-deep-learning\">Pyro</a> is a deep probabilistic programming library for PyTorch\n",
    "* It has extensive tools, and can deal with a variety of applications including generative models etc."
   ]
  },
  {
   "cell_type": "markdown",
   "metadata": {
    "slideshow": {
     "slide_type": "subslide"
    }
   },
   "source": [
    "* Other available resources online:\n",
    "    * https://github.com/Harry24k/bayesian-neural-network-pytorch\n",
    "    * https://github.com/dougbrion/pytorch-classification-uncertainty\n",
    "    * https://github.com/cpark321/uncertainty-deep-learning\n",
    "    * https://github.com/ivannz/mlss2019-bayesian-deep-learning\n",
    "    * etc."
   ]
  },
  {
   "cell_type": "markdown",
   "metadata": {
    "slideshow": {
     "slide_type": "slide"
    }
   },
   "source": [
    "### <img src=\"https://img.icons8.com/color/96/000000/code.png\" style=\"height:50px;display:inline\"> Simple code example: BNN with dropout\n",
    "* Code based on example by <a href=\"https://github.com/cpark321\">Chanwoo Park</a>"
   ]
  },
  {
   "cell_type": "code",
   "execution_count": 2,
   "metadata": {
    "slideshow": {
     "slide_type": "subslide"
    }
   },
   "outputs": [],
   "source": [
    "# imports\n",
    "import torch\n",
    "import torch.nn as nn\n",
    "import torch.nn.functional as F\n",
    "import pandas as pd\n",
    "import numpy as np\n",
    "import math\n",
    "import torch.optim as optim\n",
    "from torch.autograd import Variable\n",
    "import matplotlib.pyplot as plt\n",
    "from torchvision import datasets, transforms\n",
    "%matplotlib inline\n",
    "\n",
    "# GPU ID\n",
    "device = torch.device(\"cuda:0\")"
   ]
  },
  {
   "cell_type": "code",
   "execution_count": 3,
   "metadata": {
    "slideshow": {
     "slide_type": "subslide"
    }
   },
   "outputs": [],
   "source": [
    "# simple network model for 1D regression\n",
    "class SimpleModel(torch.nn.Module):\n",
    "    def __init__(self, dropout_rate, decay):\n",
    "        super(SimpleModel, self).__init__()\n",
    "        self.dropout_rate = dropout_rate\n",
    "        self.decay = decay\n",
    "        self.f = torch.nn.Sequential(\n",
    "            torch.nn.Linear(1,20),\n",
    "            torch.nn.ReLU(),\n",
    "            torch.nn.Dropout(p=self.dropout_rate),\n",
    "            torch.nn.Linear(20, 20),\n",
    "            torch.nn.ReLU(),\n",
    "            torch.nn.Dropout(p=self.dropout_rate),\n",
    "            torch.nn.Linear(20,1)\n",
    "        )\n",
    "    def forward(self, X):        \n",
    "        return self.f(X)"
   ]
  },
  {
   "cell_type": "code",
   "execution_count": 4,
   "metadata": {
    "slideshow": {
     "slide_type": "subslide"
    }
   },
   "outputs": [],
   "source": [
    "# estimate uncertainty by MC dropout sampling\n",
    "def uncertainity_estimate(x, model, num_samples, l2):\n",
    "    outputs = np.hstack([model(x).cpu().detach().numpy() for i in range(num_samples)]) # n번 inference, output.shape = [20, N]\n",
    "    y_mean = outputs.mean(axis=1)\n",
    "    y_variance = outputs.var(axis=1)\n",
    "    tau = l2 * (1. - model.dropout_rate) / (2. * N * model.decay)\n",
    "    y_variance += (1. / tau)\n",
    "    y_std = np.sqrt(y_variance)\n",
    "    return y_mean, y_std"
   ]
  },
  {
   "cell_type": "code",
   "execution_count": 5,
   "metadata": {
    "slideshow": {
     "slide_type": "subslide"
    }
   },
   "outputs": [],
   "source": [
    "# generate data\n",
    "N = 200 ##  number of points\n",
    "min_value = -10\n",
    "max_value = 10\n",
    "\n",
    "\n",
    "x_obs = np.linspace(min_value, max_value, N)\n",
    "noise = np.random.normal(loc = 10, scale = 80, size = N)\n",
    "y_obs =  x_obs**3 + noise\n",
    "\n",
    "x_test = np.linspace(min_value - 10, max_value + 10, N)\n",
    "y_test = x_test**3 + noise\n",
    "\n",
    "# Normalise data:\n",
    "x_mean, x_std = x_obs.mean(), x_obs.std()\n",
    "y_mean, y_std = y_obs.mean(), y_obs.std()\n",
    "x_obs = (x_obs - x_mean) / x_std\n",
    "y_obs = (y_obs - y_mean) / y_std\n",
    "x_test = (x_test - x_mean) / x_std\n",
    "y_test = (y_test - y_mean) / y_std"
   ]
  },
  {
   "cell_type": "code",
   "execution_count": 6,
   "metadata": {
    "slideshow": {
     "slide_type": "subslide"
    }
   },
   "outputs": [
    {
     "data": {
      "image/png": "[encoded data removed]",
      "text/plain": [
       "<Figure size 1152x576 with 1 Axes>"
      ]
     },
     "metadata": {
      "needs_background": "light"
     },
     "output_type": "display_data"
    }
   ],
   "source": [
    "plt.figure(figsize=(16,8))\n",
    "plt.plot(x_obs, y_obs)\n",
    "plt.grid()"
   ]
  },
  {
   "cell_type": "code",
   "execution_count": 7,
   "metadata": {
    "slideshow": {
     "slide_type": "subslide"
    }
   },
   "outputs": [
    {
     "name": "stdout",
     "output_type": "stream",
     "text": [
      "Iter: 0, Loss: 0.9956\n",
      "Iter: 2000, Loss: 0.3633\n",
      "Iter: 4000, Loss: 0.2682\n",
      "Iter: 6000, Loss: 0.2930\n",
      "Iter: 8000, Loss: 0.2467\n",
      "Iter: 10000, Loss: 0.2529\n",
      "Iter: 12000, Loss: 0.2155\n",
      "Iter: 14000, Loss: 0.2215\n",
      "Iter: 16000, Loss: 0.2392\n",
      "Iter: 18000, Loss: 0.1714\n"
     ]
    }
   ],
   "source": [
    "# define setting and optimizer\n",
    "model = SimpleModel(dropout_rate=0.5, decay=1e-6).to(device)\n",
    "criterion  = torch.nn.MSELoss()\n",
    "optimizer = torch.optim.SGD(model.parameters(), lr=0.01, weight_decay=model.decay)\n",
    "\n",
    "# train the model\n",
    "for iter in range(20000):\n",
    "    y_pred = model(torch.Tensor(x_obs).view(-1,1).to(device))\n",
    "    y_true = Variable(torch.Tensor(y_obs).view(-1,1).to(device))\n",
    "    optimizer.zero_grad()\n",
    "    loss = criterion(y_pred, y_true)\n",
    "    loss.backward()\n",
    "    optimizer.step()\n",
    "    \n",
    "    if iter % 2000 == 0:\n",
    "        print(\"Iter: {}, Loss: {:.4f}\".format(iter, loss.item()))"
   ]
  },
  {
   "cell_type": "code",
   "execution_count": 8,
   "metadata": {
    "slideshow": {
     "slide_type": "subslide"
    }
   },
   "outputs": [
    {
     "data": {
      "image/png": "[encoded data removed]",
      "text/plain": [
       "<Figure size 1152x576 with 1 Axes>"
      ]
     },
     "metadata": {
      "needs_background": "light"
     },
     "output_type": "display_data"
    }
   ],
   "source": [
    "# plot the fit to the training data\n",
    "plt.figure(figsize=(16,8))\n",
    "y_pred = model(torch.Tensor(x_obs).view(-1,1).to(device))\n",
    "plt.plot(x_obs, y_obs, ls=\"none\", marker=\"o\", color=\"0.1\", alpha=0.8, label=\"observed\")\n",
    "plt.plot(x_obs, y_pred.cpu().detach().numpy(), ls=\"-\", color=\"b\", label=\"mean\")\n",
    "plt.grid()"
   ]
  },
  {
   "cell_type": "code",
   "execution_count": 10,
   "metadata": {
    "slideshow": {
     "slide_type": "subslide"
    }
   },
   "outputs": [
    {
     "data": {
      "image/png": "[encoded data removed]",
      "text/plain": [
       "<Figure size 1152x576 with 1 Axes>"
      ]
     },
     "metadata": {
      "needs_background": "light"
     },
     "output_type": "display_data"
    }
   ],
   "source": [
    "# estimate uncertainty\n",
    "iters_uncertainty = 200\n",
    "lengthscale = 0.01\n",
    "n_std = 3 # number of standard deviations to plot\n",
    "y_mean, y_std = uncertainity_estimate(torch.Tensor(x_test).view(-1,1).to(device), model, iters_uncertainty, lengthscale)\n",
    "\n",
    "# plot the confidence intervals\n",
    "plt.figure(figsize=(16,8))\n",
    "plt.plot(x_obs, y_obs, ls=\"none\", marker=\"o\", color=\"0.1\", alpha=0.8, label=\"observed\")\n",
    "plt.plot(x_test, y_mean, ls=\"-\", color=\"b\", label=\"mean\")\n",
    "plt.plot(x_test, y_test, ls='--', color='r', label='true')\n",
    "for i in range(n_std):\n",
    "    plt.fill_between( x_test,\n",
    "        y_mean - y_std * ((i+1.)),\n",
    "        y_mean + y_std * ((i+1.)),\n",
    "        color=\"b\",\n",
    "        alpha=0.1)\n",
    "plt.legend(fontsize=20)\n",
    "plt.grid()"
   ]
  },
  {
   "cell_type": "markdown",
   "metadata": {
    "slideshow": {
     "slide_type": "slide"
    }
   },
   "source": [
    "### <img src=\"https://img.icons8.com/bubbles/50/000000/video-playlist.png\" style=\"height:50px;display:inline\"> Recommended Videos\n",
    "---\n",
    "#### <img src=\"https://img.icons8.com/cute-clipart/64/000000/warning-shield.png\" style=\"height:30px;display:inline\"> Warning!\n",
    "* These videos do not replace the lectures and tutorials.\n",
    "* Please use these to get a better understanding of the material, and not as an alternative to the written material.\n",
    "\n",
    "#### Video By Subject\n",
    "* Bayesian Neural Networks (Theory)\n",
    "    * Variational Inference and ELBO - <a href=\"https://www.youtube.com/watch?v=G6tUZRHnJYc\">Yarin Gal - Part I</a>\n",
    "    * Dropout as efficient Bayesian Inference - <a href=\"https://www.youtube.com/watch?v=7p56lnNi74s&t=5s&ab\">Yarin Gal - Part II</a>\n",
    "* Bayesian Neural Networks vs Dropout (Practice)\n",
    "    * MNIST demonstration - <a href=\"https://www.youtube.com/watch?v=Puc_ujh5QZs&t=739s&ab\"> Elise Jennings, Argonne National Laboratory</a>\n",
    "* Evidental Deep Learning - <a href=\"https://www.youtube.com/watch?v=toTcf7tZK8c&ab\"> MIT 6.S191 - Lecture 7</a>"
   ]
  },
  {
   "cell_type": "markdown",
   "metadata": {
    "slideshow": {
     "slide_type": "skip"
    }
   },
   "source": [
    "## <img src=\"https://img.icons8.com/dusk/64/000000/prize.png\" style=\"height:50px;display:inline\"> Credits\n",
    "----\n",
    "* <a href=\"http://mlg.eng.cam.ac.uk/yarin/blog_3d801aa532c1ce.html\">What My Deep Model Doesn't Know...</a> - Yarin Gal\n",
    "* <a href=\"http://mlg.eng.cam.ac.uk/yarin/blog_3d801aa532c1ce.html\">Deep Learning Is Not Good Enough,\n",
    "We Need Bayesian Deep Learning for Safe AI</a> - Alex Kendall\n",
    "* <a href=\"http://www.cs.ox.ac.uk/people/yarin.gal/website/bdl101/\">Bayesian Deep Learning 101 @ MLSS19</a> - Yarin Gal\n",
    "* <a href=\"http://introtodeeplearning.com/slides/6S191_MIT_DeepLearning_L7.pdf\">Slides Lecture 7 MIT 6.S191</a> (Introduction to Deep Learning) -  Alexander Amini\n",
    "* <a href=\"https://towardsdatascience.com/my-deep-learning-model-says-sorry-i-dont-know-the-answer-that-s-absolutely-ok-50ffa562cb0b#:~:text=There%20are%20two%20major%20different,epistemic%20uncertainty%20and%20aleatoric%20uncertainty.&text=Epistemic%20uncertainty%20describes%20what%20the,to%20limited%20data%20and%20knowledge.\"> Uncertainty in Deep Learning. How to Measure?</a> - Michel Kana\n",
    "* <a href=\"#\">Uncertainty Estimation in Deep Learning</a> (Slideshare) - Christian Perone\n",
    "* Research papers:\n",
    "    * <a href=\"http://proceedings.mlr.press/v37/blundell15.html\">Weight Uncertainty in Neural Networks</a>\n",
    "    * <a href=\"http://proceedings.mlr.press/v48/gal16.html\">Dropout as a Bayesian Approximation: Representing Model Uncertainty in Deep Learning</a>\n",
    "    * <a href=\"https://papers.nips.cc/paper/2017/hash/2650d6089a6d640c5e85b2b88265dc2b-Abstract.html\">What Uncertainties Do We Need in Bayesian Deep Learning for Computer Vision?</a>\n",
    "    * <a href=\"https://openaccess.thecvf.com/content_cvpr_2018/html/Kendall_Multi-Task_Learning_Using_CVPR_2018_paper.html\">Multi-Task Learning Using Uncertainty to Weigh Losses for Scene Geometry and Semantics</a>\n",
    "    * <a href=\"https://papers.nips.cc/paper/2018/hash/a981f2b708044d6fb4a71a1463242520-Abstract.html\">Evidential Deep Learning to Quantify Classification Uncertainty</a>\n",
    "    * <a href=\"https://openaccess.thecvf.com/content_CVPR_2019/html/Barron_A_General_and_Adaptive_Robust_Loss_Function_CVPR_2019_paper.html\">A General and Adaptive Robust Loss Function</a>\n",
    "    * <a href=\"https://www.nips.cc/virtual/2020/public/poster_aab085461de182608ee9f607f3f7d18f.html\">Deep Evidential Regression</a>\n",
    "\n",
    "* Icons from <a href=\"https://icons8.com/\">Icon8.com</a> - https://icons8.com\n"
   ]
  }
 ],
 "metadata": {
  "celltoolbar": "Slideshow",
  "kernelspec": {
   "display_name": "Python 3",
   "language": "python",
   "name": "python3"
  },
  "language_info": {
   "codemirror_mode": {
    "name": "ipython",
    "version": 3
   },
   "file_extension": ".py",
   "mimetype": "text/x-python",
   "name": "python",
   "nbconvert_exporter": "python",
   "pygments_lexer": "ipython3",
   "version": "3.7.10"
  }
 },
 "nbformat": 4,
 "nbformat_minor": 2
}
